{
 "cells": [
  {
   "cell_type": "code",
   "execution_count": 1,
   "id": "bdc9c201",
   "metadata": {
    "scrolled": true
   },
   "outputs": [],
   "source": [
    "#q1\n",
    "f=open(\"python.txt\",encoding=\"utf-8\")\n",
    "f.read()\n",
    "f.close()\n"
   ]
  },
  {
   "cell_type": "code",
   "execution_count": 72,
   "id": "805f1451",
   "metadata": {},
   "outputs": [
    {
     "name": "stdout",
     "output_type": "stream",
     "text": [
      "What is Python language?                                                \n",
      "\n"
     ]
    }
   ],
   "source": [
    "#q2\n",
    "f=open(\"python.txt\",encoding=\"utf-8\")\n",
    "print(f.readline())\n",
    "f.close()"
   ]
  },
  {
   "cell_type": "code",
   "execution_count": 84,
   "id": "030b249a",
   "metadata": {},
   "outputs": [
    {
     "name": "stdout",
     "output_type": "stream",
     "text": [
      "donner un nombre de lines3\n",
      "What is Python language?                                                \n",
      "\n",
      "Python is a widely used high-level, general-purpose, interpreted, dynamic programming language.Its design philosophy emphasizes code readability, and its syntax allows programmers to express concepts in fewer lines of code than possible in \n",
      "\n"
     ]
    }
   ],
   "source": [
    "#q2\n",
    "f=open(\"python.txt\",encoding=\"utf-8\")\n",
    "n=int(input(\"donner un nombre de lines\"))\n",
    "for i in range(n-1):\n",
    "    print(f.readline())\n",
    "f.close()"
   ]
  },
  {
   "cell_type": "code",
   "execution_count": 120,
   "id": "96cf0581",
   "metadata": {},
   "outputs": [
    {
     "name": "stdout",
     "output_type": "stream",
     "text": [
      "2\n"
     ]
    }
   ],
   "source": [
    "#q3\n",
    "f=open(\"python.txt\",encoding=\"utf-8\")\n",
    "n=int(input())\n",
    "for i in (f.readlines()[-n:]):\n",
    "    print(i)\n",
    "\n",
    "    \n",
    "f.close()\n"
   ]
  },
  {
   "cell_type": "code",
   "execution_count": 5,
   "id": "9ee582e0",
   "metadata": {},
   "outputs": [
    {
     "name": "stdout",
     "output_type": "stream",
     "text": [
      "148\n"
     ]
    }
   ],
   "source": [
    "#q4 methode1\n",
    "f=open(\"python.txt\",\"r\",encoding=\"utf-8\")\n",
    "data = f.read()\n",
    "data.replace(\",\", \" \")\n",
    "l=len(data.split(\" \"))\n",
    "print(l)\n",
    "f.close()\n"
   ]
  },
  {
   "cell_type": "code",
   "execution_count": 6,
   "id": "6e7dc3e5",
   "metadata": {},
   "outputs": [
    {
     "name": "stdout",
     "output_type": "stream",
     "text": [
      "enter the name of filepython.txt\n",
      "148\n"
     ]
    }
   ],
   "source": [
    "#q4 methode2\n",
    "def test(f):\n",
    "    data = f.read()\n",
    "    data.replace(\",\", \" \")\n",
    "    l=len(data.split(\" \"))\n",
    "    return l\n",
    "\n",
    "a=input(\"enter the name of file\")\n",
    "f=open(a)\n",
    "print(test(f))"
   ]
  },
  {
   "cell_type": "code",
   "execution_count": null,
   "id": "72ec671a",
   "metadata": {},
   "outputs": [],
   "source": []
  }
 ],
 "metadata": {
  "kernelspec": {
   "display_name": "Python 3 (ipykernel)",
   "language": "python",
   "name": "python3"
  },
  "language_info": {
   "codemirror_mode": {
    "name": "ipython",
    "version": 3
   },
   "file_extension": ".py",
   "mimetype": "text/x-python",
   "name": "python",
   "nbconvert_exporter": "python",
   "pygments_lexer": "ipython3",
   "version": "3.9.12"
  }
 },
 "nbformat": 4,
 "nbformat_minor": 5
}
